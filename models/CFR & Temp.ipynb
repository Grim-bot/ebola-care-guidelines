{
 "cells": [
  {
   "cell_type": "markdown",
   "metadata": {},
   "source": [
    "This notebook plots the graph of temperature as function of age"
   ]
  },
  {
   "cell_type": "code",
   "execution_count": null,
   "metadata": {
    "collapsed": false
   },
   "outputs": [],
   "source": [
    "%matplotlib inline\n",
    "\n",
    "import pandas as pd\n",
    "import numpy as  np\n",
    "import matplotlib.pyplot as plt\n",
    "import seaborn as sns\n",
    "from scipy import stats"
   ]
  },
  {
   "cell_type": "code",
   "execution_count": null,
   "metadata": {
    "collapsed": false
   },
   "outputs": [],
   "source": [
    "# This generates the \"eikosogram\" of mortality as function of fever temperature, each bar in the plot\n",
    "# represents the conditional probability of death given that temperature is in that bin\n",
    "\n",
    "src_data_file = '../data/data.csv'\n",
    "data = pd.read_csv(src_data_file, na_values='\\\\N')\n",
    "\n",
    "num_bins = 5\n",
    "var = 'FeverTemperature'\n",
    "\n",
    "mint = data[var].min()\n",
    "maxt = data[var].max()\n",
    "\n",
    "bins = np.linspace(mint, maxt, num=num_bins)\n",
    "bins_names = []\n",
    "for i in range(0, len(bins) - 1):\n",
    "    bins_names += [str(round(bins[i],1)) + \"-\" + str(round(bins[i + 1],1))]\n",
    "\n",
    "data1 = data.copy()\n",
    "\n",
    "data1['bin'] = pd.cut(data1[var], bins, labels=False)\n",
    "data1 = data1.dropna(subset=['bin'])\n",
    "died_temp = data1[data1['Disposition'] == 1].groupby(['bin']).count()['Disposition']\n",
    "totals_temp = data1.groupby(['bin']).count()['Disposition']\n",
    "\n",
    "fig, ax = plt.subplots()\n",
    "\n",
    "bar_width = 0.35\n",
    "opacity = 0.8\n",
    "cfr_pdw = 100 * died_temp / totals_temp\n",
    "index = np.arange(len(bins) - 1)\n",
    "rects2 = plt.bar(index, cfr_pdw, bar_width,\n",
    "                 alpha=opacity,\n",
    "                 color=sns.xkcd_rgb[\"pale red\"],\n",
    "                 label='CFR')\n",
    "\n",
    "plt.xlabel('Fever Temperature', labelpad=20)\n",
    "plt.ylabel('CFR %')\n",
    "plt.title('CFR as function of Fever Temperature')\n",
    "plt.xticks(index + bar_width/2, bins_names, rotation=0)\n",
    "\n",
    "fig.savefig('cfr_temp.pdf')"
   ]
  },
  {
   "cell_type": "code",
   "execution_count": null,
   "metadata": {
    "collapsed": false
   },
   "outputs": [],
   "source": [
    "# Looking at differences in fever temperature between males and females, \n",
    "# depending on\n",
    "# 0 = Female\n",
    "# 1 = Male\n",
    "\n",
    "data = pd.read_csv(src_data_file, na_values=\"\\\\N\")\n",
    "data_male_died = data[(data[\"PatientSex\"] == 1) & (data[\"Disposition\"] == 1)]\n",
    "data_male_surv = data[(data[\"PatientSex\"] == 1) & (data[\"Disposition\"] == 0)]\n",
    "data_male_died.hist(column=\"FeverTemperature\")\n",
    "data_male_surv.hist(column=\"FeverTemperature\")\n",
    "\n",
    "data_fem_died = data[(data[\"PatientSex\"] == 0) & (data[\"Disposition\"] == 1)]\n",
    "data_fem_surv = data[(data[\"PatientSex\"] == 0) & (data[\"Disposition\"] == 0)]\n",
    "data_fem_died.hist(column=\"FeverTemperature\")\n",
    "data_fem_surv.hist(column=\"FeverTemperature\")\n",
    "print \"Male died: \", data_male_died[\"FeverTemperature\"].mean()\n",
    "print \"Male surv: \",data_male_surv[\"FeverTemperature\"].mean()\n",
    "(s, p) = stats.ttest_ind(data_male_died[\"FeverTemperature\"],data_male_surv[\"FeverTemperature\"],nan_policy='omit')\n",
    "print \"P-value of the difference between means for males: \", p\n",
    "\n",
    "print \"Female died: \",data_fem_died[\"FeverTemperature\"].mean()\n",
    "print \"Female surv: \",data_fem_surv[\"FeverTemperature\"].mean()\n",
    "(s, p) = stats.ttest_ind(data_fem_died[\"FeverTemperature\"],data_fem_surv[\"FeverTemperature\"],nan_policy='omit')\n",
    "print \"P-value of the difference between means for females: \", p"
   ]
  }
 ],
 "metadata": {
  "kernelspec": {
   "display_name": "Python 2",
   "language": "python",
   "name": "python2"
  },
  "language_info": {
   "codemirror_mode": {
    "name": "ipython",
    "version": 2
   },
   "file_extension": ".py",
   "mimetype": "text/x-python",
   "name": "python",
   "nbconvert_exporter": "python",
   "pygments_lexer": "ipython2",
   "version": "2.7.11"
  }
 },
 "nbformat": 4,
 "nbformat_minor": 0
}
