{
 "cells": [
  {
   "cell_type": "markdown",
   "metadata": {},
   "source": [
    "This notebook contains code to explore redundancy and clusters in different sets of predictors"
   ]
  },
  {
   "cell_type": "code",
   "execution_count": 12,
   "metadata": {
    "collapsed": false
   },
   "outputs": [
    {
     "name": "stdout",
     "output_type": "stream",
     "text": [
      "The rpy2.ipython extension is already loaded. To reload it, use:\n",
      "  %reload_ext rpy2.ipython\n"
     ]
    },
    {
     "data": {
      "text/plain": [
       "array(['rms', 'SparseM', 'Hmisc', 'ggplot2', 'Formula', 'survival',\n",
       "       'splines', 'lattice', 'tools', 'stats', 'graphics', 'grDevices',\n",
       "       'utils', 'datasets', 'methods', 'base'], \n",
       "      dtype='|S9')"
      ]
     },
     "execution_count": 12,
     "metadata": {},
     "output_type": "execute_result"
    }
   ],
   "source": [
    "%load_ext rpy2.ipython\n",
    "\n",
    "%R library(Hmisc)\n",
    "%R library(rms)"
   ]
  },
  {
   "cell_type": "code",
   "execution_count": 16,
   "metadata": {
    "collapsed": true
   },
   "outputs": [],
   "source": [
    "# Data file\n",
    "src_data_file = '../data/data.csv'\n",
    "\n",
    "# Number of Multiple imputation\n",
    "num_imp = 50"
   ]
  },
  {
   "cell_type": "markdown",
   "metadata": {},
   "source": [
    "### Full Model (KGH compatible)"
   ]
  },
  {
   "cell_type": "code",
   "execution_count": 21,
   "metadata": {
    "collapsed": false
   },
   "outputs": [
    {
     "name": "stdout",
     "output_type": "stream",
     "text": [
      "Variables: ['Disposition', 'cycletime', 'PatientAge', 'FeverTemperature', 'Headache', 'Bleeding', 'Diarrhoea', 'Jaundice', 'Vomit', 'AbdominalPain', 'AstheniaWeakness']\n",
      "\n",
      "Imputation formula: ~Disposition+cycletime+PatientAge+FeverTemperature+Headache+Bleeding+Diarrhoea+Jaundice+Vomit+AbdominalPain+AstheniaWeakness\n",
      "\n",
      "Model formula: Disposition~cycletime+rcs(PatientAge,3,c(5,10,30))+rcs(FeverTemperature,3,c(35,37,40))+Headache+Bleeding+Diarrhoea+Jaundice+Vomit+AbdominalPain+AstheniaWeakness\n"
     ]
    }
   ],
   "source": [
    "variables = ['Disposition', 'cycletime', 'PatientAge', 'FeverTemperature',\n",
    "             'Headache', 'Bleeding', 'Diarrhoea', 'Jaundice', 'Vomit',\n",
    "             'AbdominalPain', 'AstheniaWeakness']\n",
    "mdl_formula = 'Disposition~cycletime+rcs(PatientAge,3,c(5,10,30))+rcs(FeverTemperature,3,c(35,37,40))+' + \\\n",
    "              'Headache+Bleeding+Diarrhoea+Jaundice+Vomit+' + \\\n",
    "              'AbdominalPain+AstheniaWeakness'\n",
    "imp_formula = '~' + '+'.join(variables)\n",
    "\n",
    "print 'Variables:', variables\n",
    "print ''\n",
    "print 'Imputation formula:', imp_formula \n",
    "print ''\n",
    "print 'Model formula:', mdl_formula "
   ]
  },
  {
   "cell_type": "code",
   "execution_count": 22,
   "metadata": {
    "collapsed": false
   },
   "outputs": [
    {
     "data": {
      "text/plain": [
       "~Disposition + cycletime + PatientAge + FeverTemperature + Headache + \n",
       "    Bleeding + Diarrhoea + Jaundice + Vomit + AbdominalPain + \n",
       "    AstheniaWeakness\n",
       "Iteration 1 \r",
       "Iteration 2 \r",
       "Iteration 3 \r",
       "Iteration 4 \r",
       "Iteration 5 \r",
       "Iteration 6 \r",
       "Iteration 7 \r",
       "Iteration 8 \r",
       "Iteration 9 \r",
       "Iteration 10 \r",
       "Iteration 11 \r",
       "Iteration 12 \r",
       "Iteration 13 \r",
       "Iteration 14 \r",
       "Iteration 15 \r",
       "Iteration 16 \r",
       "Iteration 17 \r",
       "Iteration 18 \r",
       "Iteration 19 \r",
       "Iteration 20 \r",
       "Iteration 21 \r",
       "Iteration 22 \r",
       "Iteration 23 \r",
       "Iteration 24 \r",
       "Iteration 25 \r",
       "Iteration 26 \r",
       "Iteration 27 \r",
       "Iteration 28 \r",
       "Iteration 29 \r",
       "Iteration 30 \r",
       "Iteration 31 \r",
       "Iteration 32 \r",
       "Iteration 33 \r",
       "Iteration 34 \r",
       "Iteration 35 \r",
       "Iteration 36 \r",
       "Iteration 37 \r",
       "Iteration 38 \r",
       "Iteration 39 \r",
       "Iteration 40 \r",
       "Iteration 41 \r",
       "Iteration 42 \r",
       "Iteration 43 \r",
       "Iteration 44 \r",
       "Iteration 45 \r",
       "Iteration 46 \r",
       "Iteration 47 \r",
       "Iteration 48 \r",
       "Iteration 49 \r",
       "Iteration 50 \r",
       "Iteration 51 \r",
       "Iteration 52 \r",
       "Iteration 53 \r\n",
       "Disposition ~ cycletime + rcs(PatientAge, 3, c(5, 10, 30)) + \n",
       "    rcs(FeverTemperature, 3, c(35, 37, 40)) + Headache + Bleeding + \n",
       "    Diarrhoea + Jaundice + Vomit + AbdominalPain + AstheniaWeakness\n",
       "\n",
       "Variance Inflation Factors Due to Imputation:\n",
       "\n",
       "        Intercept         cycletime        PatientAge       PatientAge' \n",
       "             1.11              1.33              1.13              1.12 \n",
       " FeverTemperature FeverTemperature'          Headache          Bleeding \n",
       "             1.10              1.09              1.08              1.09 \n",
       "        Diarrhoea          Jaundice             Vomit     AbdominalPain \n",
       "             1.21              1.08              1.09              1.06 \n",
       " AstheniaWeakness \n",
       "             1.10 \n",
       "\n",
       "Rate of Missing Information:\n",
       "\n",
       "        Intercept         cycletime        PatientAge       PatientAge' \n",
       "             0.10              0.25              0.11              0.11 \n",
       " FeverTemperature FeverTemperature'          Headache          Bleeding \n",
       "             0.09              0.08              0.07              0.08 \n",
       "        Diarrhoea          Jaundice             Vomit     AbdominalPain \n",
       "             0.18              0.07              0.09              0.06 \n",
       " AstheniaWeakness \n",
       "             0.09 \n",
       "\n",
       "d.f. for t-distribution for Tests of Single Coefficients:\n",
       "\n",
       "        Intercept         cycletime        PatientAge       PatientAge' \n",
       "          5348.54            813.57           3834.23           4032.48 \n",
       " FeverTemperature FeverTemperature'          Headache          Bleeding \n",
       "          5558.28           7551.83           9094.70           7278.31 \n",
       "        Diarrhoea          Jaundice             Vomit     AbdominalPain \n",
       "          1594.22           8905.59           6629.96          15042.02 \n",
       " AstheniaWeakness \n",
       "          6447.42 \n",
       "\n",
       "The following fit components were averaged over the 50 model fits:\n",
       "\n",
       "  stats linear.predictors \n",
       "\n",
       "\n",
       "Logistic Regression Model\n",
       "\n",
       "fit.mult.impute(formula = formula, fitter = lrm, xtrans = a, \n",
       "    data = src_data)\n",
       "\n",
       "                      Model Likelihood     Discrimination    Rank Discrim.    \n",
       "                         Ratio Test            Indexes          Indexes       \n",
       "Obs           470    LR chi2     125.57    R2       0.315    C       0.787    \n",
       " 0            199    d.f.            12    g        1.478    Dxy     0.574    \n",
       " 1            271    Pr(> chi2) <0.0001    gr       4.398    gamma   0.575    \n",
       "max |deriv| 6e-09                          gp       0.279    tau-a   0.281    \n",
       "                                           Brier    0.186                     \n",
       "\n",
       "                  Coef    S.E.    Wald Z Pr(>|Z|)\n",
       "Intercept         25.5462 10.4042  2.46  0.0141  \n",
       "cycletime         -0.1623  0.0242 -6.69  <0.0001 \n",
       "PatientAge        -0.0531  0.0177 -2.99  0.0028  \n",
       "PatientAge'        0.0989  0.0231  4.29  <0.0001 \n",
       "FeverTemperature  -0.5701  0.2778 -2.05  0.0402  \n",
       "FeverTemperature'  0.9923  0.3765  2.64  0.0084  \n",
       "Headache          -0.1512  0.2443 -0.62  0.5360  \n",
       "Bleeding           1.1363  0.5459  2.08  0.0374  \n",
       "Diarrhoea          0.1647  0.2657  0.62  0.5353  \n",
       "Jaundice           1.5028  0.6580  2.28  0.0224  \n",
       "Vomit             -0.2765  0.2559 -1.08  0.2799  \n",
       "AbdominalPain      0.0129  0.2507  0.05  0.9590  \n",
       "AstheniaWeakness   0.2392  0.2678  0.89  0.3718  \n",
       "\n",
       "\n",
       "                Wald Statistics          Response: Disposition \n",
       "\n",
       " Factor           Chi-Square d.f. P     \n",
       " cycletime        44.81       1   <.0001\n",
       " PatientAge       24.57       2   <.0001\n",
       "  Nonlinear       18.39       1   <.0001\n",
       " FeverTemperature  8.13       2   0.0172\n",
       "  Nonlinear        6.95       1   0.0084\n",
       " Headache          0.38       1   0.5360\n",
       " Bleeding          4.33       1   0.0374\n",
       " Diarrhoea         0.38       1   0.5353\n",
       " Jaundice          5.22       1   0.0224\n",
       " Vomit             1.17       1   0.2799\n",
       " AbdominalPain     0.00       1   0.9590\n",
       " AstheniaWeakness  0.80       1   0.3718\n",
       " TOTAL NONLINEAR  23.48       2   <.0001\n",
       " TOTAL            68.34      12   <.0001\n"
      ]
     },
     "metadata": {},
     "output_type": "display_data"
    },
    {
     "data": {
      "image/png": "[encoded data removed]"
     },
     "metadata": {},
     "output_type": "display_data"
    }
   ],
   "source": [
    "%%R -i num_imp,imp_formula,mdl_formula,src_data_file\n",
    "\n",
    "src_data <- read.table(src_data_file, sep=\",\", header=TRUE, na.strings=\"\\\\N\")\n",
    "\n",
    "formula <- as.formula(imp_formula)\n",
    "print(formula)\n",
    "a <- aregImpute(formula, data=src_data, n.impute=num_imp)\n",
    "\n",
    "formula <- as.formula(mdl_formula)\n",
    "print(formula)\n",
    "f <- fit.mult.impute(formula, lrm, a, data=src_data)\n",
    "\n",
    "print(f)\n",
    "an <- anova(f)\n",
    "print(an)\n",
    "plot(an)"
   ]
  },
  {
   "cell_type": "markdown",
   "metadata": {},
   "source": [
    "### Minimal Model (KGH compatible)"
   ]
  },
  {
   "cell_type": "code",
   "execution_count": 23,
   "metadata": {
    "collapsed": false
   },
   "outputs": [
    {
     "name": "stdout",
     "output_type": "stream",
     "text": [
      "Variables: ['Disposition', 'cycletime', 'PatientAge']\n",
      "\n",
      "Imputation formula: ~Disposition+cycletime+PatientAge\n",
      "\n",
      "Model formula: Disposition~cycletime+rcs(PatientAge,3,c(5,10,30))\n"
     ]
    }
   ],
   "source": [
    "variables = ['Disposition', 'cycletime', 'PatientAge']\n",
    "mdl_formula = 'Disposition~cycletime+rcs(PatientAge,3,c(5,10,30))'\n",
    "imp_formula = '~' + '+'.join(variables)\n",
    "\n",
    "print 'Variables:', variables\n",
    "print ''\n",
    "print 'Imputation formula:', imp_formula \n",
    "print ''\n",
    "print 'Model formula:', mdl_formula "
   ]
  },
  {
   "cell_type": "code",
   "execution_count": 24,
   "metadata": {
    "collapsed": false
   },
   "outputs": [
    {
     "data": {
      "text/plain": [
       "~Disposition + cycletime + PatientAge\n",
       "Iteration 1 \r",
       "Iteration 2 \r",
       "Iteration 3 \r",
       "Iteration 4 \r",
       "Iteration 5 \r",
       "Iteration 6 \r",
       "Iteration 7 \r",
       "Iteration 8 \r",
       "Iteration 9 \r",
       "Iteration 10 \r",
       "Iteration 11 \r",
       "Iteration 12 \r",
       "Iteration 13 \r",
       "Iteration 14 \r",
       "Iteration 15 \r",
       "Iteration 16 \r",
       "Iteration 17 \r",
       "Iteration 18 \r",
       "Iteration 19 \r",
       "Iteration 20 \r",
       "Iteration 21 \r",
       "Iteration 22 \r",
       "Iteration 23 \r",
       "Iteration 24 \r",
       "Iteration 25 \r",
       "Iteration 26 \r",
       "Iteration 27 \r",
       "Iteration 28 \r",
       "Iteration 29 \r",
       "Iteration 30 \r",
       "Iteration 31 \r",
       "Iteration 32 \r",
       "Iteration 33 \r",
       "Iteration 34 \r",
       "Iteration 35 \r",
       "Iteration 36 \r",
       "Iteration 37 \r",
       "Iteration 38 \r",
       "Iteration 39 \r",
       "Iteration 40 \r",
       "Iteration 41 \r",
       "Iteration 42 \r",
       "Iteration 43 \r",
       "Iteration 44 \r",
       "Iteration 45 \r",
       "Iteration 46 \r",
       "Iteration 47 \r",
       "Iteration 48 \r",
       "Iteration 49 \r",
       "Iteration 50 \r",
       "Iteration 51 \r",
       "Iteration 52 \r",
       "Iteration 53 \r\n",
       "Disposition ~ cycletime + rcs(PatientAge, 3, c(5, 10, 30))\n",
       "\n",
       "Variance Inflation Factors Due to Imputation:\n",
       "\n",
       "  Intercept   cycletime  PatientAge PatientAge' \n",
       "       1.45        1.56        1.12        1.14 \n",
       "\n",
       "Rate of Missing Information:\n",
       "\n",
       "  Intercept   cycletime  PatientAge PatientAge' \n",
       "       0.31        0.36        0.10        0.12 \n",
       "\n",
       "d.f. for t-distribution for Tests of Single Coefficients:\n",
       "\n",
       "  Intercept   cycletime  PatientAge PatientAge' \n",
       "     513.65      384.12     4504.05     3324.86 \n",
       "\n",
       "The following fit components were averaged over the 50 model fits:\n",
       "\n",
       "  stats linear.predictors \n",
       "\n",
       "\n",
       "Logistic Regression Model\n",
       "\n",
       "fit.mult.impute(formula = formula, fitter = lrm, xtrans = a, \n",
       "    data = src_data)\n",
       "\n",
       "                      Model Likelihood     Discrimination    Rank Discrim.    \n",
       "                         Ratio Test            Indexes          Indexes       \n",
       "Obs           470    LR chi2      96.85    R2       0.250    C       0.761    \n",
       " 0            198    d.f.             3    g        1.224    Dxy     0.523    \n",
       " 1            272    Pr(> chi2) <0.0001    gr       3.414    gamma   0.524    \n",
       "max |deriv| 3e-06                          gp       0.244    tau-a   0.256    \n",
       "                                           Brier    0.199                     \n",
       "\n",
       "            Coef    S.E.   Wald Z Pr(>|Z|)\n",
       "Intercept    4.4644 0.6836  6.53  <0.0001 \n",
       "cycletime   -0.1534 0.0250 -6.12  <0.0001 \n",
       "PatientAge  -0.0483 0.0157 -3.07  0.0021  \n",
       "PatientAge'  0.0907 0.0211  4.31  <0.0001 \n",
       "\n",
       "\n",
       "                Wald Statistics          Response: Disposition \n",
       "\n",
       " Factor     Chi-Square d.f. P     \n",
       " cycletime  37.49      1    <.0001\n",
       " PatientAge 22.59      2    <.0001\n",
       "  Nonlinear 18.56      1    <.0001\n",
       " TOTAL      47.17      3    <.0001\n"
      ]
     },
     "metadata": {},
     "output_type": "display_data"
    },
    {
     "data": {
      "image/png": "[encoded data removed]"
     },
     "metadata": {},
     "output_type": "display_data"
    }
   ],
   "source": [
    "%%R -i num_imp,imp_formula,mdl_formula,src_data_file\n",
    "\n",
    "src_data <- read.table(src_data_file, sep=\",\", header=TRUE, na.strings=\"\\\\N\")\n",
    "\n",
    "formula <- as.formula(imp_formula)\n",
    "print(formula)\n",
    "a <- aregImpute(formula, data=src_data, n.impute=num_imp)\n",
    "\n",
    "formula <- as.formula(mdl_formula)\n",
    "print(formula)\n",
    "f <- fit.mult.impute(formula, lrm, a, data=src_data)\n",
    "\n",
    "print(f)\n",
    "an <- anova(f)\n",
    "print(an)\n",
    "plot(an)"
   ]
  },
  {
   "cell_type": "markdown",
   "metadata": {},
   "source": [
    "### Full Model (KGH compatible), Sierra Leone only"
   ]
  },
  {
   "cell_type": "code",
   "execution_count": 10,
   "metadata": {
    "collapsed": false
   },
   "outputs": [
    {
     "name": "stdout",
     "output_type": "stream",
     "text": [
      "Variables: ['Disposition', 'cycletime', 'PatientAge', 'FeverTemperature', 'Headache', 'Bleeding', 'Diarrhoea', 'Jaundice', 'Vomit', 'AbdominalPain', 'AstheniaWeakness']\n",
      "\n",
      "Imputation formula: ~Disposition+cycletime+PatientAge+FeverTemperature+Headache+Bleeding+Diarrhoea+Jaundice+Vomit+AbdominalPain+AstheniaWeakness\n",
      "\n",
      "Model formula: Disposition~cycletime+rcs(PatientAge,3,c(5,10,30))+rcs(FeverTemperature,3,c(35,37,40))+Headache+Bleeding+Diarrhoea+Jaundice+Vomit+AbdominalPain+AstheniaWeakness\n"
     ]
    }
   ],
   "source": [
    "variables = ['Disposition', 'cycletime', 'PatientAge', 'FeverTemperature',\n",
    "             'Headache', 'Bleeding', 'Diarrhoea', 'Jaundice', 'Vomit',\n",
    "             'AbdominalPain', 'AstheniaWeakness']\n",
    "mdl_formula = 'Disposition~cycletime+rcs(PatientAge,3,c(5,10,30))+rcs(FeverTemperature,3,c(35,37,40))+' + \\\n",
    "              'Headache+Bleeding+Diarrhoea+Jaundice+Vomit+' + \\\n",
    "              'AbdominalPain+AstheniaWeakness'\n",
    "imp_formula = '~' + '+'.join(variables)\n",
    "\n",
    "print 'Variables:', variables\n",
    "print ''\n",
    "print 'Imputation formula:', imp_formula \n",
    "print ''\n",
    "print 'Model formula:', mdl_formula "
   ]
  },
  {
   "cell_type": "code",
   "execution_count": 11,
   "metadata": {
    "collapsed": false
   },
   "outputs": [
    {
     "data": {
      "text/plain": [
       "~Disposition + cycletime + PatientAge + FeverTemperature + Headache + \n",
       "    Bleeding + Diarrhoea + Jaundice + Vomit + AbdominalPain + \n",
       "    AstheniaWeakness\n",
       "Iteration 1 \r",
       "Iteration 2 \r",
       "Iteration 3 \r",
       "Iteration 4 \r",
       "Iteration 5 \r",
       "Iteration 6 \r",
       "Iteration 7 \r",
       "Iteration 8 \r\n",
       "Disposition ~ cycletime + rcs(PatientAge, 3, c(5, 10, 30)) + \n",
       "    rcs(FeverTemperature, 3, c(35, 37, 40)) + Headache + Bleeding + \n",
       "    Diarrhoea + Jaundice + Vomit + AbdominalPain + AstheniaWeakness\n",
       "\n",
       "Variance Inflation Factors Due to Imputation:\n",
       "\n",
       "        Intercept         cycletime        PatientAge       PatientAge' \n",
       "             1.06              1.38              1.09              1.03 \n",
       " FeverTemperature FeverTemperature'          Headache          Bleeding \n",
       "             1.06              1.02              1.11              1.11 \n",
       "        Diarrhoea          Jaundice             Vomit     AbdominalPain \n",
       "             1.38              1.00              1.20              1.13 \n",
       " AstheniaWeakness \n",
       "             1.99 \n",
       "\n",
       "Rate of Missing Information:\n",
       "\n",
       "        Intercept         cycletime        PatientAge       PatientAge' \n",
       "             0.06              0.27              0.08              0.03 \n",
       " FeverTemperature FeverTemperature'          Headache          Bleeding \n",
       "             0.05              0.02              0.10              0.10 \n",
       "        Diarrhoea          Jaundice             Vomit     AbdominalPain \n",
       "             0.27              0.00              0.16              0.11 \n",
       " AstheniaWeakness \n",
       "             0.50 \n",
       "\n",
       "d.f. for t-distribution for Tests of Single Coefficients:\n",
       "\n",
       "        Intercept         cycletime        PatientAge       PatientAge' \n",
       "     1.262150e+03      5.346000e+01      5.642900e+02      4.483020e+03 \n",
       " FeverTemperature FeverTemperature'          Headache          Bleeding \n",
       "     1.356860e+03      8.714720e+03      4.059600e+02      4.321900e+02 \n",
       "        Diarrhoea          Jaundice             Vomit     AbdominalPain \n",
       "     5.352000e+01      3.916824e+10      1.491300e+02      3.042300e+02 \n",
       " AstheniaWeakness \n",
       "     1.622000e+01 \n",
       "\n",
       "The following fit components were averaged over the 5 model fits:\n",
       "\n",
       "  stats linear.predictors \n",
       "\n",
       "\n",
       "Logistic Regression Model\n",
       "\n",
       "fit.mult.impute(formula = formula, fitter = lrm, xtrans = a, \n",
       "    data = src_data)\n",
       "\n",
       "                     Model Likelihood     Discrimination    Rank Discrim.    \n",
       "                        Ratio Test            Indexes          Indexes       \n",
       "Obs          292    LR chi2     111.92    R2       0.430    C       0.833    \n",
       " 0           118    d.f.            12    g        2.430    Dxy     0.667    \n",
       " 1           174    Pr(> chi2) <0.0001    gr      11.427    gamma   0.668    \n",
       "max |deriv| 0.05                          gp       0.324    tau-a   0.321    \n",
       "                                          Brier    0.161                     \n",
       "\n",
       "                  Coef    S.E.    Wald Z Pr(>|Z|)\n",
       "Intercept         41.7470 14.5692  2.87  0.0042  \n",
       "cycletime         -0.2104  0.0411 -5.12  <0.0001 \n",
       "PatientAge        -0.0948  0.0254 -3.73  0.0002  \n",
       "PatientAge'        0.1623  0.0357  4.55  <0.0001 \n",
       "FeverTemperature  -0.9729  0.3874 -2.51  0.0120  \n",
       "FeverTemperature'  1.6411  0.5654  2.90  0.0037  \n",
       "Headache           0.0420  0.3335  0.13  0.8999  \n",
       "Bleeding           1.1807  0.7405  1.59  0.1108  \n",
       "Diarrhoea          0.4167  0.3931  1.06  0.2891  \n",
       "Jaundice           8.5400 26.7424  0.32  0.7495  \n",
       "Vomit             -0.7165  0.3857 -1.86  0.0632  \n",
       "AbdominalPain     -0.4579  0.3751 -1.22  0.2221  \n",
       "AstheniaWeakness   0.4550  0.4918  0.93  0.3549  \n",
       "\n",
       "\n",
       "                Wald Statistics          Response: Disposition \n",
       "\n",
       " Factor           Chi-Square d.f. P     \n",
       " cycletime        26.21       1   <.0001\n",
       " PatientAge       21.80       2   <.0001\n",
       "  Nonlinear       20.69       1   <.0001\n",
       " FeverTemperature  8.56       2   0.0138\n",
       "  Nonlinear        8.43       1   0.0037\n",
       " Headache          0.02       1   0.8999\n",
       " Bleeding          2.54       1   0.1108\n",
       " Diarrhoea         1.12       1   0.2891\n",
       " Jaundice          0.10       1   0.7495\n",
       " Vomit             3.45       1   0.0632\n",
       " AbdominalPain     1.49       1   0.2221\n",
       " AstheniaWeakness  0.86       1   0.3549\n",
       " TOTAL NONLINEAR  26.08       2   <.0001\n",
       " TOTAL            52.63      12   <.0001\n"
      ]
     },
     "metadata": {},
     "output_type": "display_data"
    },
    {
     "data": {
      "image/png": "[encoded data removed]"
     },
     "metadata": {},
     "output_type": "display_data"
    }
   ],
   "source": [
    "%%R -i num_imp,imp_formula,mdl_formula,src_data_file\n",
    "\n",
    "src_data <- read.table(src_data_file, sep=\",\", header=TRUE, na.strings=\"\\\\N\")\n",
    "src_data <- src_data[src_data$ETUKey %in% c(2, 4, 5),]\n",
    "\n",
    "formula <- as.formula(imp_formula)\n",
    "print(formula)\n",
    "a <- aregImpute(formula, data=src_data, n.impute=num_imp)\n",
    "\n",
    "formula <- as.formula(mdl_formula)\n",
    "print(formula)\n",
    "f <- fit.mult.impute(formula, lrm, a, data=src_data)\n",
    "\n",
    "print(f)\n",
    "an <- anova(f)\n",
    "print(an)\n",
    "plot(an)"
   ]
  },
  {
   "cell_type": "markdown",
   "metadata": {},
   "source": [
    "### Medium Model (KGH compatible), Sierra Leone only"
   ]
  },
  {
   "cell_type": "code",
   "execution_count": 22,
   "metadata": {
    "collapsed": false
   },
   "outputs": [
    {
     "name": "stdout",
     "output_type": "stream",
     "text": [
      "Variables: ['Disposition', 'cycletime', 'PatientAge', 'FeverTemperature', 'Bleeding', 'Vomit', 'AbdominalPain', 'AstheniaWeakness']\n",
      "\n",
      "Imputation formula: ~Disposition+cycletime+PatientAge+FeverTemperature+Bleeding+Vomit+AbdominalPain+AstheniaWeakness\n",
      "\n",
      "Model formula: Disposition~cycletime+rcs(PatientAge,3,c(5,10,30))+rcs(FeverTemperature,3,c(35,37,40))+Bleeding+Vomit+AbdominalPain+AstheniaWeakness\n"
     ]
    }
   ],
   "source": [
    "variables = ['Disposition', 'cycletime', 'PatientAge', 'FeverTemperature',\n",
    "             'Bleeding', 'Vomit',\n",
    "             'AbdominalPain', 'AstheniaWeakness']\n",
    "mdl_formula = 'Disposition~cycletime+rcs(PatientAge,3,c(5,10,30))+rcs(FeverTemperature,3,c(35,37,40))+' + \\\n",
    "              'Bleeding+Vomit+' + \\\n",
    "              'AbdominalPain+AstheniaWeakness'\n",
    "imp_formula = '~' + '+'.join(variables)\n",
    "\n",
    "print 'Variables:', variables\n",
    "print ''\n",
    "print 'Imputation formula:', imp_formula \n",
    "print ''\n",
    "print 'Model formula:', mdl_formula "
   ]
  },
  {
   "cell_type": "code",
   "execution_count": 23,
   "metadata": {
    "collapsed": false
   },
   "outputs": [
    {
     "data": {
      "text/plain": [
       "~Disposition + cycletime + PatientAge + FeverTemperature + Bleeding + \n",
       "    Vomit + AbdominalPain + AstheniaWeakness\n",
       "Iteration 1 \r",
       "Iteration 2 \r",
       "Iteration 3 \r",
       "Iteration 4 \r",
       "Iteration 5 \r",
       "Iteration 6 \r",
       "Iteration 7 \r",
       "Iteration 8 \r\n",
       "Disposition ~ cycletime + rcs(PatientAge, 3, c(5, 10, 30)) + \n",
       "    rcs(FeverTemperature, 3, c(35, 37, 40)) + Bleeding + Vomit + \n",
       "    AbdominalPain + AstheniaWeakness\n",
       "\n",
       "Variance Inflation Factors Due to Imputation:\n",
       "\n",
       "        Intercept         cycletime        PatientAge       PatientAge' \n",
       "             2.96              3.37              1.63              1.17 \n",
       " FeverTemperature FeverTemperature'          Bleeding             Vomit \n",
       "             2.81              2.56              1.36              1.72 \n",
       "    AbdominalPain  AstheniaWeakness \n",
       "             1.31              1.49 \n",
       "\n",
       "Rate of Missing Information:\n",
       "\n",
       "        Intercept         cycletime        PatientAge       PatientAge' \n",
       "             0.66              0.70              0.38              0.15 \n",
       " FeverTemperature FeverTemperature'          Bleeding             Vomit \n",
       "             0.64              0.61              0.27              0.42 \n",
       "    AbdominalPain  AstheniaWeakness \n",
       "             0.23              0.33 \n",
       "\n",
       "d.f. for t-distribution for Tests of Single Coefficients:\n",
       "\n",
       "        Intercept         cycletime        PatientAge       PatientAge' \n",
       "             9.14              8.09             27.00            184.57 \n",
       " FeverTemperature FeverTemperature'          Bleeding             Vomit \n",
       "             9.66             10.77             56.25             22.82 \n",
       "    AbdominalPain  AstheniaWeakness \n",
       "            72.81             36.62 \n",
       "\n",
       "The following fit components were averaged over the 5 model fits:\n",
       "\n",
       "  stats linear.predictors \n",
       "\n",
       "\n",
       "Logistic Regression Model\n",
       "\n",
       "fit.mult.impute(formula = formula, fitter = lrm, xtrans = a, \n",
       "    data = src_data)\n",
       "                      Model Likelihood     Discrimination    Rank Discrim.    \n",
       "                         Ratio Test            Indexes          Indexes       \n",
       "Obs           291    LR chi2     103.92    R2       0.404    C       0.828    \n",
       " 0            116    d.f.             9    g        1.854    Dxy     0.655    \n",
       " 1            175    Pr(> chi2) <0.0001    gr       6.573    gamma   0.656    \n",
       "max |deriv| 1e-06                          gp       0.314    tau-a   0.316    \n",
       "                                           Brier    0.164                     \n",
       "\n",
       "                  Coef    S.E.    Wald Z Pr(>|Z|)\n",
       "Intercept         37.8501 24.8681  1.52  0.1280  \n",
       "cycletime         -0.2334  0.0698 -3.34  0.0008  \n",
       "PatientAge        -0.0913  0.0309 -2.95  0.0031  \n",
       "PatientAge'        0.1569  0.0376  4.18  <0.0001 \n",
       "FeverTemperature  -0.8532  0.6462 -1.32  0.1867  \n",
       "FeverTemperature'  1.7028  1.0931  1.56  0.1193  \n",
       "Bleeding           0.8606  0.8202  1.05  0.2940  \n",
       "Vomit             -0.5808  0.4292 -1.35  0.1760  \n",
       "AbdominalPain     -0.2563  0.3866 -0.66  0.5074  \n",
       "AstheniaWeakness   0.4824  0.4162  1.16  0.2464  \n",
       "\n",
       "\n",
       "                Wald Statistics          Response: Disposition \n",
       "\n",
       " Factor           Chi-Square d.f. P     \n",
       " cycletime        11.17      1    0.0008\n",
       " PatientAge       20.94      2    <.0001\n",
       "  Nonlinear       17.43      1    <.0001\n",
       " FeverTemperature  2.67      2    0.2629\n",
       "  Nonlinear        2.43      1    0.1193\n",
       " Bleeding          1.10      1    0.2940\n",
       " Vomit             1.83      1    0.1760\n",
       " AbdominalPain     0.44      1    0.5074\n",
       " AstheniaWeakness  1.34      1    0.2464\n",
       " TOTAL NONLINEAR  18.98      2    0.0001\n",
       " TOTAL            40.45      9    <.0001\n"
      ]
     },
     "metadata": {},
     "output_type": "display_data"
    },
    {
     "data": {
      "image/png": "[encoded data removed]"
     },
     "metadata": {},
     "output_type": "display_data"
    }
   ],
   "source": [
    "%%R -i num_imp,imp_formula,mdl_formula,src_data_file\n",
    "\n",
    "src_data <- read.table(src_data_file, sep=\",\", header=TRUE, na.strings=\"\\\\N\")\n",
    "src_data <- src_data[src_data$ETUKey %in% c(2, 4, 5),]\n",
    "\n",
    "formula <- as.formula(imp_formula)\n",
    "print(formula)\n",
    "a <- aregImpute(formula, data=src_data, n.impute=num_imp)\n",
    "\n",
    "formula <- as.formula(mdl_formula)\n",
    "print(formula)\n",
    "f <- fit.mult.impute(formula, lrm, a, data=src_data)\n",
    "\n",
    "print(f)\n",
    "an <- anova(f)\n",
    "print(an)\n",
    "plot(an)"
   ]
  },
  {
   "cell_type": "code",
   "execution_count": null,
   "metadata": {
    "collapsed": true
   },
   "outputs": [],
   "source": []
  }
 ],
 "metadata": {
  "kernelspec": {
   "display_name": "Python 2",
   "language": "python",
   "name": "python2"
  },
  "language_info": {
   "codemirror_mode": {
    "name": "ipython",
    "version": 2
   },
   "file_extension": ".py",
   "mimetype": "text/x-python",
   "name": "python",
   "nbconvert_exporter": "python",
   "pygments_lexer": "ipython2",
   "version": "2.7.11"
  }
 },
 "nbformat": 4,
 "nbformat_minor": 0
}
