{
 "cells": [
  {
   "cell_type": "markdown",
   "metadata": {},
   "source": [
    "This notebook plots the graph of case fatality rate (CFR) as function of age"
   ]
  },
  {
   "cell_type": "code",
   "execution_count": null,
   "metadata": {
    "collapsed": false
   },
   "outputs": [],
   "source": [
    "%matplotlib inline\n",
    "\n",
    "import pandas as pd\n",
    "import numpy as  np\n",
    "import matplotlib.pyplot as plt\n",
    "import seaborn as sns"
   ]
  },
  {
   "cell_type": "code",
   "execution_count": null,
   "metadata": {
    "collapsed": true
   },
   "outputs": [],
   "source": [
    "# Load data\n",
    "src_data_file = '../data/data.csv'\n",
    "data = pd.read_csv(src_data_file, na_values='\\\\N')"
   ]
  },
  {
   "cell_type": "code",
   "execution_count": null,
   "metadata": {
    "collapsed": false
   },
   "outputs": [],
   "source": [
    "var = 'PatientAge'\n",
    "mina = data[var].min()\n",
    "maxa = data[var].max()\n",
    "\n",
    "nbins = 8\n",
    "diff = 10.0\n",
    "bins = np.linspace(0, 80, nbins + 1)\n",
    "print bins\n",
    "\n",
    "bins = np.array([0.0, 5.0] + list(bins[1:]))\n",
    "print bins    \n",
    "\n",
    "bin_names = []\n",
    "for age in bins[0:2]:\n",
    "    bin_names += [str(int(age)) + '-' + str(int(age + 5.0))]\n",
    "\n",
    "for age in bins[2:]:\n",
    "    bin_names += [str(int(age)) + '-' + str(int(age + 10.0))]\n",
    "    \n",
    "data1 = data.copy()\n",
    "binned = pd.cut(data[var], bins)\n",
    "data2 = pd.DataFrame()\n",
    "data2['Disposition'] = data1['Disposition']\n",
    "data2['Age group'] = binned\n",
    "data2.dropna(inplace=True)\n",
    "\n",
    "# Count number of total, diseased, and recovered patients\n",
    "tot = pd.value_counts(data2['Age group'], sort=False)\n",
    "died = pd.value_counts(data2[data2['Disposition'] == 1]['Age group'], sort=False)\n",
    "rec = pd.value_counts(data2[data2['Disposition'] == 0]['Age group'], sort=False)\n",
    "\n",
    "# CFR in %\n",
    "cfr = 100 * died / tot\n",
    "data3 = pd.DataFrame()\n",
    "data3['CFR'] = cfr\n",
    "data3['Count'] = tot\n",
    "\n",
    "print data3['CFR']\n",
    "\n",
    "# Combine plots\n",
    "fig = plt.figure()\n",
    "# ax1 = data3.CFR.plot(kind='bar', color=sns.xkcd_rgb[\"pale red\"], legend=True, width=0.5, alpha=0.8)\n",
    "ax1 = data3.CFR.plot(kind='bar', color=sns.xkcd_rgb[\"pale red\"], width=0.5, alpha=0.8)\n",
    "# ax2 = data3.Count.plot(kind='line', secondary_y=True, legend=True)\n",
    "ax1.set_xlabel('Age group', labelpad=20)\n",
    "ax1.set_ylabel('CFR %')\n",
    "# ax1.set_xticks( [ 0.5, 1.5, 2.5 ] )\n",
    "ax1.set_xticklabels(bin_names, rotation=45)\n",
    "# plt.xticks(bins, [], rotation=45)\n",
    "\n",
    "# ax2.set_ylabel('Total count')\n",
    "plt.title('CFR as function of age (years)')\n",
    "\n",
    "fig.savefig('cfr_age.pdf')"
   ]
  }
 ],
 "metadata": {
  "kernelspec": {
   "display_name": "Python 2",
   "language": "python",
   "name": "python2"
  },
  "language_info": {
   "codemirror_mode": {
    "name": "ipython",
    "version": 2
   },
   "file_extension": ".py",
   "mimetype": "text/x-python",
   "name": "python",
   "nbconvert_exporter": "python",
   "pygments_lexer": "ipython2",
   "version": "2.7.11"
  }
 },
 "nbformat": 4,
 "nbformat_minor": 0
}
